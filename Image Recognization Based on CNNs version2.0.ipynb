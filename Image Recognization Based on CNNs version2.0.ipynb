{
 "cells": [
  {
   "cell_type": "code",
   "execution_count": 1,
   "id": "e5788a4e",
   "metadata": {},
   "outputs": [],
   "source": [
    "import os\n",
    "import tensorflow as tf\n",
    "import matplotlib.pyplot as plt\n",
    "import numpy as np\n",
    "import pandas as pd"
   ]
  },
  {
   "cell_type": "code",
   "execution_count": 2,
   "id": "8e71c008",
   "metadata": {},
   "outputs": [],
   "source": [
    "def mkdir(path):\n",
    "    if not os.path.exists(path):\n",
    "        os.makedirs(path)\n",
    "\n",
    "runPath = os.getcwd()\n",
    "\n",
    "data_dir =runPath + '/data/'\n",
    "mkdir(data_dir)\n",
    "\n",
    "## train_dir\n",
    "train_dir = data_dir + 'train/'\n",
    "mkdir(train_dir)\n",
    "\n",
    "## valid_dir\n",
    "valid_dir = data_dir + 'valid/'\n",
    "mkdir(valid_dir)\n",
    "\n",
    "## doll_train\n",
    "doll_dir = train_dir + 'doll/'\n",
    "mkdir(doll_dir)\n",
    "\n",
    "## doll_valid\n",
    "doll_valid_dir = valid_dir + 'doll/'\n",
    "mkdir(doll_valid_dir)\n",
    "\n",
    "## blue_train\n",
    "blue_dir = train_dir + 'blue/'\n",
    "mkdir(blue_dir)\n",
    "\n",
    "## blue_valid\n",
    "blue_valid_dir = valid_dir + 'blue/'\n",
    "mkdir(blue_valid_dir)"
   ]
  },
  {
   "cell_type": "code",
   "execution_count": 3,
   "id": "ab401edb",
   "metadata": {},
   "outputs": [
    {
     "name": "stdout",
     "output_type": "stream",
     "text": [
      "Found 850 images belonging to 2 classes.\n",
      "Found 213 images belonging to 2 classes.\n"
     ]
    }
   ],
   "source": [
    "########################## Image Augmentation #################################\n",
    "def img_transforms():\n",
    "    train_datagen = tf.keras.preprocessing.image.ImageDataGenerator(\n",
    "            rescale=1. / 255,\n",
    "            rotation_range=50,\n",
    "            width_shift_range=0.2,\n",
    "            height_shift_range=0.2,\n",
    "            shear_range=0.2,\n",
    "            zoom_range=0.2,\n",
    "            horizontal_flip=False,\n",
    "            fill_mode='nearest',\n",
    "    )\n",
    "    \n",
    "    train_generator = train_datagen.flow_from_directory(\n",
    "        train_dir,\n",
    "        target_size=(150, 150),\n",
    "        batch_size=30,\n",
    "        seed=1,\n",
    "        shuffle=True,\n",
    "        class_mode='categorical'\n",
    "    )\n",
    "\n",
    "\n",
    "    valid_datagen = tf.keras.preprocessing.image.ImageDataGenerator(\n",
    "        rescale=1. / 255,\n",
    "    )\n",
    "\n",
    "    valid_generator = valid_datagen.flow_from_directory(\n",
    "        valid_dir,\n",
    "        target_size=(150, 150),\n",
    "        batch_size=30,\n",
    "        seed=1,\n",
    "        shuffle=False,\n",
    "        class_mode=\"categorical\"\n",
    "    )\n",
    "    return train_generator,valid_generator\n",
    "\n",
    "train_generator,valid_generator = img_transforms()\n"
   ]
  },
  {
   "cell_type": "code",
   "execution_count": 4,
   "id": "4e2e6ad4",
   "metadata": {},
   "outputs": [
    {
     "name": "stdout",
     "output_type": "stream",
     "text": [
      "Model: \"sequential\"\n",
      "_________________________________________________________________\n",
      "Layer (type)                 Output Shape              Param #   \n",
      "=================================================================\n",
      "conv2d (Conv2D)              (None, 150, 150, 16)      448       \n",
      "_________________________________________________________________\n",
      "max_pooling2d (MaxPooling2D) (None, 50, 50, 16)        0         \n",
      "_________________________________________________________________\n",
      "conv2d_1 (Conv2D)            (None, 50, 50, 64)        9280      \n",
      "_________________________________________________________________\n",
      "max_pooling2d_1 (MaxPooling2 (None, 17, 17, 64)        0         \n",
      "_________________________________________________________________\n",
      "conv2d_2 (Conv2D)            (None, 17, 17, 32)        8224      \n",
      "_________________________________________________________________\n",
      "max_pooling2d_2 (MaxPooling2 (None, 9, 9, 32)          0         \n",
      "_________________________________________________________________\n",
      "flatten (Flatten)            (None, 2592)              0         \n",
      "_________________________________________________________________\n",
      "dense (Dense)                (None, 2048)              5310464   \n",
      "_________________________________________________________________\n",
      "dropout (Dropout)            (None, 2048)              0         \n",
      "_________________________________________________________________\n",
      "dense_1 (Dense)              (None, 1024)              2098176   \n",
      "_________________________________________________________________\n",
      "dense_2 (Dense)              (None, 512)               524800    \n",
      "_________________________________________________________________\n",
      "dense_3 (Dense)              (None, 256)               131328    \n",
      "_________________________________________________________________\n",
      "dense_4 (Dense)              (None, 128)               32896     \n",
      "_________________________________________________________________\n",
      "dense_5 (Dense)              (None, 2)                 258       \n",
      "=================================================================\n",
      "Total params: 8,115,874\n",
      "Trainable params: 8,115,874\n",
      "Non-trainable params: 0\n",
      "_________________________________________________________________\n"
     ]
    }
   ],
   "source": [
    "############################# Complex Model ###################################\n",
    "def cnn(width,height,depth,outputNum):\n",
    "\n",
    "    model = tf.keras.models.Sequential([\n",
    "\n",
    "        tf.keras.layers.Conv2D(filters=16, \n",
    "                            kernel_size=3, \n",
    "                            padding='same', \n",
    "                            activation='relu', \n",
    "                            input_shape=[width, height, depth]), \n",
    "\n",
    "        tf.keras.layers.MaxPool2D(pool_size=3, strides=(3,3),padding='same'),\n",
    "\n",
    "        tf.keras.layers.Conv2D(filters=64, \n",
    "                            kernel_size=3, \n",
    "                            padding='same', \n",
    "                            activation='relu'), \n",
    "\n",
    "        tf.keras.layers.MaxPool2D(pool_size=5, strides=(3,3),padding='same'),\n",
    "\n",
    "        tf.keras.layers.Conv2D(filters=32, \n",
    "                            kernel_size=2, \n",
    "                            padding='same', \n",
    "                            activation='relu'), \n",
    "\n",
    "        tf.keras.layers.MaxPool2D(pool_size=3, strides=(2,2),padding='same'),\n",
    "\n",
    "        tf.keras.layers.Flatten(),\n",
    "        tf.keras.layers.Dense(2048, activation='relu'),\n",
    "        tf.keras.layers.Dropout(rate=0.2),\n",
    "        tf.keras.layers.Dense(1024, activation='relu'),\n",
    "        tf.keras.layers.Dense(512, activation='relu'),\n",
    "        tf.keras.layers.Dense(256, activation='relu'),\n",
    "        tf.keras.layers.Dense(128, activation='relu'),\n",
    "        tf.keras.layers.Dense(outputNum, activation='softmax')\n",
    "    ])\n",
    "\n",
    "    model.compile(loss='categorical_crossentropy',\n",
    "                  optimizer='adam',\n",
    "                  metrics=['accuracy'])\n",
    "    model.summary()\n",
    "    return model\n",
    "\n",
    "model = cnn(150,150,3,2)"
   ]
  },
  {
   "cell_type": "code",
   "execution_count": 5,
   "id": "a6d57aa6",
   "metadata": {
    "scrolled": false
   },
   "outputs": [
    {
     "name": "stdout",
     "output_type": "stream",
     "text": [
      "Epoch 1/20\n",
      " 1/29 [>.............................] - ETA: 0s - loss: 0.6911 - accuracy: 0.6000WARNING:tensorflow:From D:\\Anaconda\\envs\\tensorflow\\lib\\site-packages\\tensorflow\\python\\ops\\summary_ops_v2.py:1277: stop (from tensorflow.python.eager.profiler) is deprecated and will be removed after 2020-07-01.\n",
      "Instructions for updating:\n",
      "use `tf.profiler.experimental.stop` instead.\n",
      "29/29 [==============================] - 13s 450ms/step - loss: 0.6855 - accuracy: 0.5835 - val_loss: 0.6427 - val_accuracy: 0.6573\n",
      "Epoch 2/20\n",
      "29/29 [==============================] - 13s 442ms/step - loss: 0.6302 - accuracy: 0.6388 - val_loss: 0.5992 - val_accuracy: 0.7465\n",
      "Epoch 3/20\n",
      "29/29 [==============================] - 13s 449ms/step - loss: 0.4931 - accuracy: 0.8082 - val_loss: 0.3726 - val_accuracy: 0.8310\n",
      "Epoch 4/20\n",
      "29/29 [==============================] - 13s 445ms/step - loss: 0.4921 - accuracy: 0.7776 - val_loss: 0.3535 - val_accuracy: 0.8592\n",
      "Epoch 5/20\n",
      "29/29 [==============================] - 13s 446ms/step - loss: 0.4095 - accuracy: 0.8353 - val_loss: 0.3156 - val_accuracy: 0.8779\n",
      "Epoch 6/20\n",
      "29/29 [==============================] - 13s 445ms/step - loss: 0.3835 - accuracy: 0.8341 - val_loss: 0.4584 - val_accuracy: 0.8028\n",
      "Epoch 7/20\n",
      "29/29 [==============================] - 13s 438ms/step - loss: 0.3805 - accuracy: 0.8329 - val_loss: 0.2522 - val_accuracy: 0.9014\n",
      "Epoch 8/20\n",
      "29/29 [==============================] - 13s 439ms/step - loss: 0.2641 - accuracy: 0.9059 - val_loss: 0.2090 - val_accuracy: 0.9061\n",
      "Epoch 9/20\n",
      "29/29 [==============================] - 13s 445ms/step - loss: 0.2847 - accuracy: 0.8894 - val_loss: 0.2242 - val_accuracy: 0.8920\n",
      "Epoch 10/20\n",
      "29/29 [==============================] - 13s 448ms/step - loss: 0.2461 - accuracy: 0.8965 - val_loss: 0.1634 - val_accuracy: 0.9343\n",
      "Epoch 11/20\n",
      "29/29 [==============================] - 13s 446ms/step - loss: 0.2426 - accuracy: 0.9059 - val_loss: 0.2136 - val_accuracy: 0.9155\n",
      "Epoch 12/20\n",
      "29/29 [==============================] - 13s 443ms/step - loss: 0.3358 - accuracy: 0.8776 - val_loss: 0.3727 - val_accuracy: 0.8498\n",
      "Epoch 13/20\n",
      "29/29 [==============================] - 13s 438ms/step - loss: 0.2512 - accuracy: 0.8988 - val_loss: 0.2016 - val_accuracy: 0.9296\n",
      "Epoch 14/20\n",
      "29/29 [==============================] - 13s 432ms/step - loss: 0.2400 - accuracy: 0.9071 - val_loss: 0.1947 - val_accuracy: 0.9296\n",
      "Epoch 15/20\n",
      "29/29 [==============================] - 13s 436ms/step - loss: 0.2127 - accuracy: 0.9259 - val_loss: 0.2723 - val_accuracy: 0.8967\n"
     ]
    }
   ],
   "source": [
    "modelPath = './model'\n",
    "mkdir(modelPath)\n",
    "\n",
    "output_model_file = os.path.join(modelPath,\"DollvsBlue_weights.h5\")\n",
    "\n",
    "def plot_learning_curves(history, label, epochs, min_value, max_value):\n",
    "    data = {}\n",
    "    data[label] = history.history[label]\n",
    "    data['val_' + label] = history.history['val_' + label]\n",
    "    pd.DataFrame(data).plot(figsize=(8, 5))\n",
    "    plt.grid(True)\n",
    "    plt.axis([0, epochs, min_value, max_value])\n",
    "    plt.show()\n",
    "\n",
    "\n",
    "TRAIN_STEP = 20\n",
    "\n",
    "\n",
    "callbacks = [\n",
    "            tf.keras.callbacks.TensorBoard(modelPath),\n",
    "            tf.keras.callbacks.ModelCheckpoint(output_model_file,\n",
    "                                            save_best_only=True,\n",
    "                                            save_weights_only=True),\n",
    "            tf.keras.callbacks.EarlyStopping(patience=5, min_delta=1e-3)\n",
    "        ]\n",
    "\n",
    "\n",
    "history = model.fit(\n",
    "        train_generator,\n",
    "        epochs=TRAIN_STEP,\n",
    "        validation_data = valid_generator,\n",
    "        callbacks = callbacks\n",
    "    )"
   ]
  },
  {
   "cell_type": "code",
   "execution_count": 6,
   "id": "7163202c",
   "metadata": {},
   "outputs": [
    {
     "data": {
      "image/png": "[encoded data removed]",
      "text/plain": [
       "<Figure size 576x360 with 1 Axes>"
      ]
     },
     "metadata": {
      "needs_background": "light"
     },
     "output_type": "display_data"
    },
    {
     "data": {
      "image/png": "[encoded data removed]",
      "text/plain": [
       "<Figure size 576x360 with 1 Axes>"
      ]
     },
     "metadata": {
      "needs_background": "light"
     },
     "output_type": "display_data"
    }
   ],
   "source": [
    "plot_learning_curves(history, 'accuracy', TRAIN_STEP, 0, 1)\n",
    "plot_learning_curves(history, 'loss', TRAIN_STEP, 0, 5)"
   ]
  },
  {
   "cell_type": "code",
   "execution_count": 7,
   "id": "61b0d79f",
   "metadata": {},
   "outputs": [
    {
     "name": "stdout",
     "output_type": "stream",
     "text": [
      "Model: \"sequential_1\"\n",
      "_________________________________________________________________\n",
      "Layer (type)                 Output Shape              Param #   \n",
      "=================================================================\n",
      "conv2d_3 (Conv2D)            (None, 150, 150, 16)      1216      \n",
      "_________________________________________________________________\n",
      "max_pooling2d_3 (MaxPooling2 (None, 30, 30, 16)        0         \n",
      "_________________________________________________________________\n",
      "flatten_1 (Flatten)          (None, 14400)             0         \n",
      "_________________________________________________________________\n",
      "dense_6 (Dense)              (None, 128)               1843328   \n",
      "_________________________________________________________________\n",
      "dense_7 (Dense)              (None, 2)                 258       \n",
      "=================================================================\n",
      "Total params: 1,844,802\n",
      "Trainable params: 1,844,802\n",
      "Non-trainable params: 0\n",
      "_________________________________________________________________\n"
     ]
    }
   ],
   "source": [
    "############################## Simple Model ###################################\n",
    "def cnn(width,height,depth,outputNum):\n",
    "\n",
    "    model = tf.keras.models.Sequential([\n",
    "\n",
    "        tf.keras.layers.Conv2D(filters=16, \n",
    "                            kernel_size=5, \n",
    "                            padding='same', \n",
    "                            activation='relu', \n",
    "                            input_shape=[width, height, depth]), \n",
    "\n",
    "        tf.keras.layers.MaxPool2D(pool_size=5, strides=(5,5),padding='same'),\n",
    "        tf.keras.layers.Flatten(),\n",
    "        tf.keras.layers.Dense(128, activation='relu'),\n",
    "        tf.keras.layers.Dense(outputNum, activation='softmax')\n",
    "    ])\n",
    "\n",
    "    model.compile(loss='categorical_crossentropy',\n",
    "                  optimizer='adam',\n",
    "                  metrics=['accuracy'])\n",
    "    model.summary()\n",
    "    return model\n",
    "\n",
    "model = cnn(150,150,3,2)"
   ]
  },
  {
   "cell_type": "code",
   "execution_count": 8,
   "id": "a9d7d4ca",
   "metadata": {},
   "outputs": [
    {
     "name": "stdout",
     "output_type": "stream",
     "text": [
      "Epoch 1/20\n",
      "29/29 [==============================] - 12s 415ms/step - loss: 0.9203 - accuracy: 0.5094 - val_loss: 0.6622 - val_accuracy: 0.6620\n",
      "Epoch 2/20\n",
      "29/29 [==============================] - 11s 382ms/step - loss: 0.6807 - accuracy: 0.5741 - val_loss: 0.6284 - val_accuracy: 0.6573\n",
      "Epoch 3/20\n",
      "29/29 [==============================] - 11s 388ms/step - loss: 0.6761 - accuracy: 0.5894 - val_loss: 0.6371 - val_accuracy: 0.6667\n",
      "Epoch 4/20\n",
      "29/29 [==============================] - 11s 382ms/step - loss: 0.6570 - accuracy: 0.5953 - val_loss: 0.5822 - val_accuracy: 0.7324\n",
      "Epoch 5/20\n",
      "29/29 [==============================] - 11s 393ms/step - loss: 0.5547 - accuracy: 0.7376 - val_loss: 0.4661 - val_accuracy: 0.7887\n",
      "Epoch 6/20\n",
      "29/29 [==============================] - 11s 374ms/step - loss: 0.4343 - accuracy: 0.8118 - val_loss: 0.3333 - val_accuracy: 0.8592\n",
      "Epoch 7/20\n",
      "29/29 [==============================] - 11s 386ms/step - loss: 0.3596 - accuracy: 0.8506 - val_loss: 0.3040 - val_accuracy: 0.8685\n",
      "Epoch 8/20\n",
      "29/29 [==============================] - 11s 394ms/step - loss: 0.3066 - accuracy: 0.8729 - val_loss: 0.2498 - val_accuracy: 0.8967\n",
      "Epoch 9/20\n",
      "29/29 [==============================] - 11s 380ms/step - loss: 0.3065 - accuracy: 0.8788 - val_loss: 0.5021 - val_accuracy: 0.7700\n",
      "Epoch 10/20\n",
      "29/29 [==============================] - 11s 382ms/step - loss: 0.3277 - accuracy: 0.8588 - val_loss: 0.5086 - val_accuracy: 0.7887\n",
      "Epoch 11/20\n",
      "29/29 [==============================] - 11s 391ms/step - loss: 0.3013 - accuracy: 0.8812 - val_loss: 0.2617 - val_accuracy: 0.8873\n",
      "Epoch 12/20\n",
      "29/29 [==============================] - 11s 382ms/step - loss: 0.3286 - accuracy: 0.8671 - val_loss: 0.4226 - val_accuracy: 0.8357\n",
      "Epoch 13/20\n",
      "29/29 [==============================] - 11s 393ms/step - loss: 0.2709 - accuracy: 0.8941 - val_loss: 0.5138 - val_accuracy: 0.7981\n"
     ]
    }
   ],
   "source": [
    "output_model_file = os.path.join(modelPath,\"DollvsBlue_weights_simple.h5\")\n",
    "history = model.fit(\n",
    "        train_generator,\n",
    "        epochs=TRAIN_STEP,\n",
    "        validation_data = valid_generator,\n",
    "        callbacks = callbacks\n",
    "    )"
   ]
  },
  {
   "cell_type": "code",
   "execution_count": 9,
   "id": "22c43af8",
   "metadata": {},
   "outputs": [
    {
     "data": {
      "image/png": "[encoded data removed]",
      "text/plain": [
       "<Figure size 576x360 with 1 Axes>"
      ]
     },
     "metadata": {
      "needs_background": "light"
     },
     "output_type": "display_data"
    },
    {
     "data": {
      "image/png": "[encoded data removed]",
      "text/plain": [
       "<Figure size 576x360 with 1 Axes>"
      ]
     },
     "metadata": {
      "needs_background": "light"
     },
     "output_type": "display_data"
    }
   ],
   "source": [
    "plot_learning_curves(history, 'accuracy', TRAIN_STEP, 0, 1)\n",
    "plot_learning_curves(history, 'loss', TRAIN_STEP, 0, 5)"
   ]
  },
  {
   "cell_type": "code",
   "execution_count": null,
   "id": "c0f7167c",
   "metadata": {},
   "outputs": [],
   "source": []
  }
 ],
 "metadata": {
  "kernelspec": {
   "display_name": "Python 3 (ipykernel)",
   "language": "python",
   "name": "python3"
  },
  "language_info": {
   "codemirror_mode": {
    "name": "ipython",
    "version": 3
   },
   "file_extension": ".py",
   "mimetype": "text/x-python",
   "name": "python",
   "nbconvert_exporter": "python",
   "pygments_lexer": "ipython3",
   "version": "3.8.13"
  }
 },
 "nbformat": 4,
 "nbformat_minor": 5
}
